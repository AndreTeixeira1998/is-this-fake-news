{
 "cells": [
  {
   "cell_type": "code",
   "execution_count": 1,
   "metadata": {
    "_cell_guid": "b1076dfc-b9ad-4769-8c92-a6c4dae69d19",
    "_uuid": "8f2839f25d086af736a60e9eeb907d3b93b6e0e5",
    "execution": {
     "iopub.execute_input": "2021-03-06T06:24:17.149317Z",
     "iopub.status.busy": "2021-03-06T06:24:17.148405Z",
     "iopub.status.idle": "2021-03-06T06:24:17.158215Z",
     "shell.execute_reply": "2021-03-06T06:24:17.157501Z"
    },
    "papermill": {
     "duration": 0.030034,
     "end_time": "2021-03-06T06:24:17.158510",
     "exception": false,
     "start_time": "2021-03-06T06:24:17.128476",
     "status": "completed"
    },
    "tags": []
   },
   "outputs": [
    {
     "name": "stdout",
     "output_type": "stream",
     "text": [
      "/kaggle/input/fake-and-real-news-dataset/True.csv\n",
      "/kaggle/input/fake-and-real-news-dataset/Fake.csv\n"
     ]
    }
   ],
   "source": [
    "# This Python 3 environment comes with many helpful analytics libraries installed\n",
    "# It is defined by the kaggle/python Docker image: https://github.com/kaggle/docker-python\n",
    "# For example, here's several helpful packages to load\n",
    "\n",
    "import numpy as np # linear algebra\n",
    "import pandas as pd # data processing, CSV file I/O (e.g. pd.read_csv)\n",
    "\n",
    "# Input data files are available in the read-only \"../input/\" directory\n",
    "# For example, running this (by clicking run or pressing Shift+Enter) will list all files under the input directory\n",
    "\n",
    "import os\n",
    "for dirname, _, filenames in os.walk('/kaggle/input'):\n",
    "    for filename in filenames:\n",
    "        print(os.path.join(dirname, filename))\n",
    "\n",
    "# You can write up to 20GB to the current directory (/kaggle/working/) that gets preserved as output when you create a version using \"Save & Run All\" \n",
    "# You can also write temporary files to /kaggle/temp/, but they won't be saved outside of the current session"
   ]
  },
  {
   "cell_type": "markdown",
   "metadata": {
    "papermill": {
     "duration": 0.012443,
     "end_time": "2021-03-06T06:24:17.184832",
     "exception": false,
     "start_time": "2021-03-06T06:24:17.172389",
     "status": "completed"
    },
    "tags": []
   },
   "source": [
    "> ## Import and examine data"
   ]
  },
  {
   "cell_type": "code",
   "execution_count": 2,
   "metadata": {
    "execution": {
     "iopub.execute_input": "2021-03-06T06:24:17.216727Z",
     "iopub.status.busy": "2021-03-06T06:24:17.216000Z",
     "iopub.status.idle": "2021-03-06T06:24:19.974217Z",
     "shell.execute_reply": "2021-03-06T06:24:19.974835Z"
    },
    "papermill": {
     "duration": 2.777408,
     "end_time": "2021-03-06T06:24:19.975046",
     "exception": false,
     "start_time": "2021-03-06T06:24:17.197638",
     "status": "completed"
    },
    "tags": []
   },
   "outputs": [],
   "source": [
    "real_df = pd.read_csv('/kaggle/input/fake-and-real-news-dataset/True.csv')\n",
    "fake_df = pd.read_csv('/kaggle/input/fake-and-real-news-dataset/Fake.csv')\n",
    "real_df['label'] = 1\n",
    "fake_df['label'] = 0\n",
    "df = pd.concat([real_df, fake_df], axis=0, ignore_index=True)"
   ]
  },
  {
   "cell_type": "code",
   "execution_count": 3,
   "metadata": {
    "execution": {
     "iopub.execute_input": "2021-03-06T06:24:20.005600Z",
     "iopub.status.busy": "2021-03-06T06:24:20.004595Z",
     "iopub.status.idle": "2021-03-06T06:24:20.046438Z",
     "shell.execute_reply": "2021-03-06T06:24:20.046893Z"
    },
    "papermill": {
     "duration": 0.058702,
     "end_time": "2021-03-06T06:24:20.047084",
     "exception": false,
     "start_time": "2021-03-06T06:24:19.988382",
     "status": "completed"
    },
    "tags": []
   },
   "outputs": [
    {
     "name": "stdout",
     "output_type": "stream",
     "text": [
      "<class 'pandas.core.frame.DataFrame'>\n",
      "RangeIndex: 44898 entries, 0 to 44897\n",
      "Data columns (total 5 columns):\n",
      " #   Column   Non-Null Count  Dtype \n",
      "---  ------   --------------  ----- \n",
      " 0   title    44898 non-null  object\n",
      " 1   text     44898 non-null  object\n",
      " 2   subject  44898 non-null  object\n",
      " 3   date     44898 non-null  object\n",
      " 4   label    44898 non-null  int64 \n",
      "dtypes: int64(1), object(4)\n",
      "memory usage: 1.7+ MB\n"
     ]
    }
   ],
   "source": [
    "df.info()"
   ]
  },
  {
   "cell_type": "markdown",
   "metadata": {
    "papermill": {
     "duration": 0.013569,
     "end_time": "2021-03-06T06:24:20.074329",
     "exception": false,
     "start_time": "2021-03-06T06:24:20.060760",
     "status": "completed"
    },
    "tags": []
   },
   "source": [
    "## Preprocess data"
   ]
  },
  {
   "cell_type": "code",
   "execution_count": 4,
   "metadata": {
    "execution": {
     "iopub.execute_input": "2021-03-06T06:24:20.108603Z",
     "iopub.status.busy": "2021-03-06T06:24:20.107927Z",
     "iopub.status.idle": "2021-03-06T06:24:22.017024Z",
     "shell.execute_reply": "2021-03-06T06:24:22.016444Z"
    },
    "papermill": {
     "duration": 1.928955,
     "end_time": "2021-03-06T06:24:22.017169",
     "exception": false,
     "start_time": "2021-03-06T06:24:20.088214",
     "status": "completed"
    },
    "tags": []
   },
   "outputs": [],
   "source": [
    "import warnings   \n",
    "warnings.filterwarnings(action = 'ignore') \n",
    "\n",
    "import re\n",
    "from string import punctuation\n",
    "from nltk.stem import WordNetLemmatizer\n",
    "from nltk.tokenize import sent_tokenize, word_tokenize \n",
    "from sklearn.feature_extraction.text import CountVectorizer\n",
    "from sklearn.model_selection import train_test_split"
   ]
  },
  {
   "cell_type": "markdown",
   "metadata": {
    "papermill": {
     "duration": 0.013276,
     "end_time": "2021-03-06T06:24:22.044422",
     "exception": false,
     "start_time": "2021-03-06T06:24:22.031146",
     "status": "completed"
    },
    "tags": []
   },
   "source": [
    "## One-hot encode subject"
   ]
  },
  {
   "cell_type": "code",
   "execution_count": 5,
   "metadata": {
    "execution": {
     "iopub.execute_input": "2021-03-06T06:24:22.081212Z",
     "iopub.status.busy": "2021-03-06T06:24:22.080507Z",
     "iopub.status.idle": "2021-03-06T06:24:22.127039Z",
     "shell.execute_reply": "2021-03-06T06:24:22.127565Z"
    },
    "papermill": {
     "duration": 0.069677,
     "end_time": "2021-03-06T06:24:22.127744",
     "exception": false,
     "start_time": "2021-03-06T06:24:22.058067",
     "status": "completed"
    },
    "tags": []
   },
   "outputs": [
    {
     "data": {
      "text/html": [
       "<div>\n",
       "<style scoped>\n",
       "    .dataframe tbody tr th:only-of-type {\n",
       "        vertical-align: middle;\n",
       "    }\n",
       "\n",
       "    .dataframe tbody tr th {\n",
       "        vertical-align: top;\n",
       "    }\n",
       "\n",
       "    .dataframe thead th {\n",
       "        text-align: right;\n",
       "    }\n",
       "</style>\n",
       "<table border=\"1\" class=\"dataframe\">\n",
       "  <thead>\n",
       "    <tr style=\"text-align: right;\">\n",
       "      <th></th>\n",
       "      <th>title</th>\n",
       "      <th>text</th>\n",
       "      <th>label</th>\n",
       "      <th>subject_Government News</th>\n",
       "      <th>subject_Middle-east</th>\n",
       "      <th>subject_News</th>\n",
       "      <th>subject_US_News</th>\n",
       "      <th>subject_left-news</th>\n",
       "      <th>subject_politics</th>\n",
       "      <th>subject_politicsNews</th>\n",
       "      <th>subject_worldnews</th>\n",
       "    </tr>\n",
       "  </thead>\n",
       "  <tbody>\n",
       "    <tr>\n",
       "      <th>0</th>\n",
       "      <td>As U.S. budget fight looms, Republicans flip t...</td>\n",
       "      <td>WASHINGTON (Reuters) - The head of a conservat...</td>\n",
       "      <td>1</td>\n",
       "      <td>0</td>\n",
       "      <td>0</td>\n",
       "      <td>0</td>\n",
       "      <td>0</td>\n",
       "      <td>0</td>\n",
       "      <td>0</td>\n",
       "      <td>1</td>\n",
       "      <td>0</td>\n",
       "    </tr>\n",
       "    <tr>\n",
       "      <th>1</th>\n",
       "      <td>U.S. military to accept transgender recruits o...</td>\n",
       "      <td>WASHINGTON (Reuters) - Transgender people will...</td>\n",
       "      <td>1</td>\n",
       "      <td>0</td>\n",
       "      <td>0</td>\n",
       "      <td>0</td>\n",
       "      <td>0</td>\n",
       "      <td>0</td>\n",
       "      <td>0</td>\n",
       "      <td>1</td>\n",
       "      <td>0</td>\n",
       "    </tr>\n",
       "    <tr>\n",
       "      <th>2</th>\n",
       "      <td>Senior U.S. Republican senator: 'Let Mr. Muell...</td>\n",
       "      <td>WASHINGTON (Reuters) - The special counsel inv...</td>\n",
       "      <td>1</td>\n",
       "      <td>0</td>\n",
       "      <td>0</td>\n",
       "      <td>0</td>\n",
       "      <td>0</td>\n",
       "      <td>0</td>\n",
       "      <td>0</td>\n",
       "      <td>1</td>\n",
       "      <td>0</td>\n",
       "    </tr>\n",
       "    <tr>\n",
       "      <th>3</th>\n",
       "      <td>FBI Russia probe helped by Australian diplomat...</td>\n",
       "      <td>WASHINGTON (Reuters) - Trump campaign adviser ...</td>\n",
       "      <td>1</td>\n",
       "      <td>0</td>\n",
       "      <td>0</td>\n",
       "      <td>0</td>\n",
       "      <td>0</td>\n",
       "      <td>0</td>\n",
       "      <td>0</td>\n",
       "      <td>1</td>\n",
       "      <td>0</td>\n",
       "    </tr>\n",
       "    <tr>\n",
       "      <th>4</th>\n",
       "      <td>Trump wants Postal Service to charge 'much mor...</td>\n",
       "      <td>SEATTLE/WASHINGTON (Reuters) - President Donal...</td>\n",
       "      <td>1</td>\n",
       "      <td>0</td>\n",
       "      <td>0</td>\n",
       "      <td>0</td>\n",
       "      <td>0</td>\n",
       "      <td>0</td>\n",
       "      <td>0</td>\n",
       "      <td>1</td>\n",
       "      <td>0</td>\n",
       "    </tr>\n",
       "  </tbody>\n",
       "</table>\n",
       "</div>"
      ],
      "text/plain": [
       "                                               title  \\\n",
       "0  As U.S. budget fight looms, Republicans flip t...   \n",
       "1  U.S. military to accept transgender recruits o...   \n",
       "2  Senior U.S. Republican senator: 'Let Mr. Muell...   \n",
       "3  FBI Russia probe helped by Australian diplomat...   \n",
       "4  Trump wants Postal Service to charge 'much mor...   \n",
       "\n",
       "                                                text  label  \\\n",
       "0  WASHINGTON (Reuters) - The head of a conservat...      1   \n",
       "1  WASHINGTON (Reuters) - Transgender people will...      1   \n",
       "2  WASHINGTON (Reuters) - The special counsel inv...      1   \n",
       "3  WASHINGTON (Reuters) - Trump campaign adviser ...      1   \n",
       "4  SEATTLE/WASHINGTON (Reuters) - President Donal...      1   \n",
       "\n",
       "   subject_Government News  subject_Middle-east  subject_News  \\\n",
       "0                        0                    0             0   \n",
       "1                        0                    0             0   \n",
       "2                        0                    0             0   \n",
       "3                        0                    0             0   \n",
       "4                        0                    0             0   \n",
       "\n",
       "   subject_US_News  subject_left-news  subject_politics  subject_politicsNews  \\\n",
       "0                0                  0                 0                     1   \n",
       "1                0                  0                 0                     1   \n",
       "2                0                  0                 0                     1   \n",
       "3                0                  0                 0                     1   \n",
       "4                0                  0                 0                     1   \n",
       "\n",
       "   subject_worldnews  \n",
       "0                  0  \n",
       "1                  0  \n",
       "2                  0  \n",
       "3                  0  \n",
       "4                  0  "
      ]
     },
     "execution_count": 5,
     "metadata": {},
     "output_type": "execute_result"
    }
   ],
   "source": [
    "data = pd.get_dummies(df, columns=['subject'])\n",
    "data.drop(['date'], inplace=True, axis=1)\n",
    "data.head()"
   ]
  },
  {
   "cell_type": "code",
   "execution_count": 6,
   "metadata": {
    "execution": {
     "iopub.execute_input": "2021-03-06T06:24:22.161658Z",
     "iopub.status.busy": "2021-03-06T06:24:22.160975Z",
     "iopub.status.idle": "2021-03-06T06:24:22.171239Z",
     "shell.execute_reply": "2021-03-06T06:24:22.171762Z"
    },
    "papermill": {
     "duration": 0.029596,
     "end_time": "2021-03-06T06:24:22.171950",
     "exception": false,
     "start_time": "2021-03-06T06:24:22.142354",
     "status": "completed"
    },
    "tags": []
   },
   "outputs": [],
   "source": [
    "\n",
    "\n",
    "def preprocess(df):\n",
    "    lemmatizer = WordNetLemmatizer()\n",
    "\n",
    "    text_processed = []\n",
    "    for text in df.text:\n",
    "        # remove punctuation and lowercase\n",
    "        text = re.sub(r'[^a-zA-Z]', ' ', text) \n",
    "        text = text.lower()\n",
    "        \n",
    "        # tokenize and lemmatize tokens\n",
    "        tokens = word_tokenize(text)\n",
    "        tokens = [lemmatizer.lemmatize(x) for x in tokens]\n",
    "        text_processed.append(' '.join(tokens))\n",
    " \n",
    "\n",
    "    title_processed = []\n",
    "    for title in df.title:\n",
    "        # remove punctuation and lowercase\n",
    "        title = re.sub(r'[^a-zA-Z]', ' ', title) \n",
    "        title = title.lower()\n",
    "        \n",
    "        # tokenize and lemmatize tokens\n",
    "        tokens = word_tokenize(title)\n",
    "        tokens = [lemmatizer.lemmatize(x) for x in tokens]\n",
    "        title_processed.append(' '.join(tokens))\n",
    "        \n",
    "    # vectorize\n",
    "    text_vectorizer = CountVectorizer(stop_words='english', max_features=4000)\n",
    "    title_vectorizer = CountVectorizer(stop_words='english', max_features=1000)\n",
    "    text_matrix = text_vectorizer.fit_transform(text_processed).toarray()\n",
    "    title_matrix = title_vectorizer.fit_transform(title_processed).toarray()\n",
    "    \n",
    "    # store label then drop old text columns and label\n",
    "    y = np.array(df.label)\n",
    "    df.drop(['title','text','label'], inplace=True, axis=1)\n",
    "    \n",
    "    # return np matrix\n",
    "    X = np.concatenate([np.array(df), title_matrix, text_matrix], axis=1)\n",
    "    return X, y"
   ]
  },
  {
   "cell_type": "code",
   "execution_count": 7,
   "metadata": {
    "execution": {
     "iopub.execute_input": "2021-03-06T06:24:22.204630Z",
     "iopub.status.busy": "2021-03-06T06:24:22.203942Z",
     "iopub.status.idle": "2021-03-06T06:29:34.554506Z",
     "shell.execute_reply": "2021-03-06T06:29:34.553874Z"
    },
    "papermill": {
     "duration": 312.368093,
     "end_time": "2021-03-06T06:29:34.554687",
     "exception": false,
     "start_time": "2021-03-06T06:24:22.186594",
     "status": "completed"
    },
    "tags": []
   },
   "outputs": [],
   "source": [
    "X, y = preprocess(data)"
   ]
  },
  {
   "cell_type": "code",
   "execution_count": 8,
   "metadata": {
    "execution": {
     "iopub.execute_input": "2021-03-06T06:29:34.591874Z",
     "iopub.status.busy": "2021-03-06T06:29:34.590839Z",
     "iopub.status.idle": "2021-03-06T06:29:35.178355Z",
     "shell.execute_reply": "2021-03-06T06:29:35.179028Z"
    },
    "papermill": {
     "duration": 0.60937,
     "end_time": "2021-03-06T06:29:35.179228",
     "exception": false,
     "start_time": "2021-03-06T06:29:34.569858",
     "status": "completed"
    },
    "tags": []
   },
   "outputs": [
    {
     "name": "stdout",
     "output_type": "stream",
     "text": [
      "(31428, 5008)\n",
      "(13470, 5008)\n",
      "(31428,)\n",
      "(13470,)\n"
     ]
    }
   ],
   "source": [
    "X_train, X_test, y_train, y_test = train_test_split(X, y, test_size=0.3, random_state=1)\n",
    "print(X_train.shape)\n",
    "print(X_test.shape)\n",
    "print(y_train.shape)\n",
    "print(y_test.shape)"
   ]
  },
  {
   "cell_type": "markdown",
   "metadata": {
    "papermill": {
     "duration": 0.014997,
     "end_time": "2021-03-06T06:29:35.210104",
     "exception": false,
     "start_time": "2021-03-06T06:29:35.195107",
     "status": "completed"
    },
    "tags": []
   },
   "source": [
    "## Create model"
   ]
  },
  {
   "cell_type": "code",
   "execution_count": 9,
   "metadata": {
    "execution": {
     "iopub.execute_input": "2021-03-06T06:29:35.245374Z",
     "iopub.status.busy": "2021-03-06T06:29:35.244731Z",
     "iopub.status.idle": "2021-03-06T06:29:36.434698Z",
     "shell.execute_reply": "2021-03-06T06:29:36.434010Z"
    },
    "papermill": {
     "duration": 1.209267,
     "end_time": "2021-03-06T06:29:36.434876",
     "exception": false,
     "start_time": "2021-03-06T06:29:35.225609",
     "status": "completed"
    },
    "tags": []
   },
   "outputs": [],
   "source": [
    "import torch\n",
    "from torch import nn"
   ]
  },
  {
   "cell_type": "code",
   "execution_count": 10,
   "metadata": {
    "execution": {
     "iopub.execute_input": "2021-03-06T06:29:36.477303Z",
     "iopub.status.busy": "2021-03-06T06:29:36.476602Z",
     "iopub.status.idle": "2021-03-06T06:29:36.480099Z",
     "shell.execute_reply": "2021-03-06T06:29:36.479545Z"
    },
    "papermill": {
     "duration": 0.029564,
     "end_time": "2021-03-06T06:29:36.480262",
     "exception": false,
     "start_time": "2021-03-06T06:29:36.450698",
     "status": "completed"
    },
    "tags": []
   },
   "outputs": [],
   "source": [
    "class MLP(nn.Module):\n",
    "    def __init__(self):\n",
    "        super(MLP, self).__init__()\n",
    "        \n",
    "        # input layer\n",
    "        self.l1 = nn.Linear(5008, 2000) # input shape (5008,) -> output to layer 2000 units\n",
    "        self.relu1 = nn.ReLU()\n",
    "        \n",
    "        # hidden layer 1\n",
    "        self.l2 = nn.Linear(2000, 500)  # input shape 2000 -> output to layer 1000 units\n",
    "        self.relu2 = nn.ReLU()\n",
    "        \n",
    "        # hidden layer 2\n",
    "        self.l3 = nn.Linear(500, 100)    # input shape 500 -> output to layer 100 units\n",
    "        self.relu3 = nn.ReLU()\n",
    "        \n",
    "        # hidden layer 3\n",
    "        self.l4 = nn.Linear(100, 20)    # input shape 100 -> output to layer 20 units\n",
    "        self.relu4 = nn.ReLU()\n",
    "        \n",
    "        # output layer\n",
    "        self.l5 = nn.Linear(20, 2)      # input shape 20 -> output layer 2 units (binary classifier)\n",
    "        \n",
    "    def forward(self, X):\n",
    "        out = self.l1(X)\n",
    "        out = self.relu1(out)\n",
    "        \n",
    "        out = self.l2(out)\n",
    "        out = self.relu2(out)\n",
    "        \n",
    "        out = self.l3(out)\n",
    "        out = self.relu3(out)\n",
    "        \n",
    "        out = self.l4(out)\n",
    "        out = self.relu4(out)\n",
    "        \n",
    "        out = self.l5(out)\n",
    "        return out"
   ]
  },
  {
   "cell_type": "markdown",
   "metadata": {
    "papermill": {
     "duration": 0.015224,
     "end_time": "2021-03-06T06:29:36.511275",
     "exception": false,
     "start_time": "2021-03-06T06:29:36.496051",
     "status": "completed"
    },
    "tags": []
   },
   "source": [
    "## Optimizer and loss function"
   ]
  },
  {
   "cell_type": "code",
   "execution_count": 11,
   "metadata": {
    "execution": {
     "iopub.execute_input": "2021-03-06T06:29:36.547818Z",
     "iopub.status.busy": "2021-03-06T06:29:36.546997Z",
     "iopub.status.idle": "2021-03-06T06:29:36.676856Z",
     "shell.execute_reply": "2021-03-06T06:29:36.676144Z"
    },
    "papermill": {
     "duration": 0.150318,
     "end_time": "2021-03-06T06:29:36.677011",
     "exception": false,
     "start_time": "2021-03-06T06:29:36.526693",
     "status": "completed"
    },
    "tags": []
   },
   "outputs": [],
   "source": [
    "model = MLP()\n",
    "optimizer = torch.optim.Adam(model.parameters(), lr=0.001)\n",
    "error = nn.CrossEntropyLoss()"
   ]
  },
  {
   "cell_type": "markdown",
   "metadata": {
    "papermill": {
     "duration": 0.015296,
     "end_time": "2021-03-06T06:29:36.708412",
     "exception": false,
     "start_time": "2021-03-06T06:29:36.693116",
     "status": "completed"
    },
    "tags": []
   },
   "source": [
    "## Training"
   ]
  },
  {
   "cell_type": "code",
   "execution_count": 12,
   "metadata": {
    "execution": {
     "iopub.execute_input": "2021-03-06T06:29:36.745835Z",
     "iopub.status.busy": "2021-03-06T06:29:36.745103Z",
     "iopub.status.idle": "2021-03-06T06:29:37.383589Z",
     "shell.execute_reply": "2021-03-06T06:29:37.382878Z"
    },
    "papermill": {
     "duration": 0.659444,
     "end_time": "2021-03-06T06:29:37.383735",
     "exception": false,
     "start_time": "2021-03-06T06:29:36.724291",
     "status": "completed"
    },
    "tags": []
   },
   "outputs": [],
   "source": [
    "X_train = torch.Tensor(X_train)\n",
    "y_train = torch.Tensor(y_train).type(torch.LongTensor)\n",
    "\n",
    "X_test = torch.Tensor(X_test)\n",
    "y_test = torch.Tensor(y_test).type(torch.LongTensor)"
   ]
  },
  {
   "cell_type": "code",
   "execution_count": 13,
   "metadata": {
    "execution": {
     "iopub.execute_input": "2021-03-06T06:29:37.419177Z",
     "iopub.status.busy": "2021-03-06T06:29:37.418183Z",
     "iopub.status.idle": "2021-03-06T06:33:54.313404Z",
     "shell.execute_reply": "2021-03-06T06:33:54.315052Z"
    },
    "papermill": {
     "duration": 256.916772,
     "end_time": "2021-03-06T06:33:54.316266",
     "exception": false,
     "start_time": "2021-03-06T06:29:37.399494",
     "status": "completed"
    },
    "tags": []
   },
   "outputs": [
    {
     "name": "stdout",
     "output_type": "stream",
     "text": [
      "Epoch 0 Loss: 0.692087709903717\n",
      "Epoch 1 Loss: 0.656926691532135\n",
      "Epoch 2 Loss: 0.5708069801330566\n",
      "Epoch 3 Loss: 0.44728589057922363\n",
      "Epoch 4 Loss: 0.31299299001693726\n",
      "Epoch 5 Loss: 0.20922158658504486\n",
      "Epoch 6 Loss: 0.14590740203857422\n",
      "Epoch 7 Loss: 0.1219242662191391\n",
      "Epoch 8 Loss: 0.1044846922159195\n",
      "Epoch 9 Loss: 0.05954645946621895\n",
      "Epoch 10 Loss: 0.0631004273891449\n",
      "Epoch 11 Loss: 0.03745202720165253\n",
      "Epoch 12 Loss: 0.046126462519168854\n",
      "Epoch 13 Loss: 0.023630298674106598\n",
      "Epoch 14 Loss: 0.03278902545571327\n",
      "Epoch 15 Loss: 0.014281288720667362\n",
      "Epoch 16 Loss: 0.014227138832211494\n",
      "Epoch 17 Loss: 0.014247043058276176\n",
      "Epoch 18 Loss: 0.005810512229800224\n",
      "Epoch 19 Loss: 0.0049452162347733974\n"
     ]
    }
   ],
   "source": [
    "epochs = 20\n",
    "\n",
    "for epoch in range(epochs):\n",
    "    \n",
    "    # clear gradients\n",
    "    optimizer.zero_grad()\n",
    "    \n",
    "    # forward pass\n",
    "    out = model(X_train)\n",
    "    \n",
    "    # compute loss\n",
    "    loss = error(out, y_train)\n",
    "    \n",
    "    # backprop\n",
    "    loss.backward()\n",
    "    \n",
    "    # update parameters\n",
    "    optimizer.step()\n",
    "    \n",
    "    # print train loss\n",
    "    print(f'Epoch {epoch} Loss: {loss}')\n",
    "    "
   ]
  },
  {
   "cell_type": "markdown",
   "metadata": {
    "papermill": {
     "duration": 0.035214,
     "end_time": "2021-03-06T06:33:54.382964",
     "exception": false,
     "start_time": "2021-03-06T06:33:54.347750",
     "status": "completed"
    },
    "tags": []
   },
   "source": [
    "## Evaluate model"
   ]
  },
  {
   "cell_type": "code",
   "execution_count": 14,
   "metadata": {
    "execution": {
     "iopub.execute_input": "2021-03-06T06:33:54.469827Z",
     "iopub.status.busy": "2021-03-06T06:33:54.467484Z",
     "iopub.status.idle": "2021-03-06T06:33:57.705596Z",
     "shell.execute_reply": "2021-03-06T06:33:57.704997Z"
    },
    "papermill": {
     "duration": 3.281753,
     "end_time": "2021-03-06T06:33:57.705747",
     "exception": false,
     "start_time": "2021-03-06T06:33:54.423994",
     "status": "completed"
    },
    "tags": []
   },
   "outputs": [
    {
     "name": "stdout",
     "output_type": "stream",
     "text": [
      "tensor([1, 0, 1,  ..., 0, 1, 0])\n",
      "Test accuracy: 0.9921306607275426\n"
     ]
    }
   ],
   "source": [
    "from sklearn.metrics import accuracy_score\n",
    "y_pred = model(X_test)\n",
    "y_pred_max = torch.max(y_pred,1)[1]\n",
    "print(y_pred_max)\n",
    "test_accuracy = accuracy_score(y_pred_max, y_test)\n",
    "print(f'Test accuracy: {test_accuracy}')"
   ]
  },
  {
   "cell_type": "code",
   "execution_count": null,
   "metadata": {
    "papermill": {
     "duration": 0.021943,
     "end_time": "2021-03-06T06:33:57.751071",
     "exception": false,
     "start_time": "2021-03-06T06:33:57.729128",
     "status": "completed"
    },
    "tags": []
   },
   "outputs": [],
   "source": []
  }
 ],
 "metadata": {
  "kernelspec": {
   "display_name": "Python 3",
   "language": "python",
   "name": "python3"
  },
  "language_info": {
   "codemirror_mode": {
    "name": "ipython",
    "version": 3
   },
   "file_extension": ".py",
   "mimetype": "text/x-python",
   "name": "python",
   "nbconvert_exporter": "python",
   "pygments_lexer": "ipython3",
   "version": "3.7.9"
  },
  "papermill": {
   "default_parameters": {},
   "duration": 587.941275,
   "end_time": "2021-03-06T06:33:58.887302",
   "environment_variables": {},
   "exception": null,
   "input_path": "__notebook__.ipynb",
   "output_path": "__notebook__.ipynb",
   "parameters": {},
   "start_time": "2021-03-06T06:24:10.946027",
   "version": "2.2.2"
  }
 },
 "nbformat": 4,
 "nbformat_minor": 4
}